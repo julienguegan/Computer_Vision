{
  "nbformat": 4,
  "nbformat_minor": 0,
  "metadata": {
    "kernelspec": {
      "display_name": "Python 3",
      "language": "python",
      "name": "python3"
    },
    "language_info": {
      "codemirror_mode": {
        "name": "ipython",
        "version": 3
      },
      "file_extension": ".py",
      "mimetype": "text/x-python",
      "name": "python",
      "nbconvert_exporter": "python",
      "pygments_lexer": "ipython3",
      "version": "3.7.4"
    },
    "toc": {
      "base_numbering": 1,
      "nav_menu": {},
      "number_sections": true,
      "sideBar": true,
      "skip_h1_title": false,
      "title_cell": "Table of Contents",
      "title_sidebar": "Contents",
      "toc_cell": false,
      "toc_position": {},
      "toc_section_display": true,
      "toc_window_display": true
    },
    "varInspector": {
      "cols": {
        "lenName": 16,
        "lenType": 16,
        "lenVar": 40
      },
      "kernels_config": {
        "python": {
          "delete_cmd_postfix": "",
          "delete_cmd_prefix": "del ",
          "library": "var_list.py",
          "varRefreshCmd": "print(var_dic_list())"
        },
        "r": {
          "delete_cmd_postfix": ") ",
          "delete_cmd_prefix": "rm(",
          "library": "var_list.r",
          "varRefreshCmd": "cat(var_dic_list()) "
        }
      },
      "types_to_exclude": [
        "module",
        "function",
        "builtin_function_or_method",
        "instance",
        "_Feature"
      ],
      "window_display": false
    },
    "colab": {
      "name": "spatial_transformer_tutorial.ipynb",
      "provenance": []
    },
    "accelerator": "GPU",
    "widgets": {
      "application/vnd.jupyter.widget-state+json": {
        "8deda27575994594b0f2d78f07a69d33": {
          "model_module": "@jupyter-widgets/controls",
          "model_name": "HBoxModel",
          "state": {
            "_view_name": "HBoxView",
            "_dom_classes": [],
            "_model_name": "HBoxModel",
            "_view_module": "@jupyter-widgets/controls",
            "_model_module_version": "1.5.0",
            "_view_count": null,
            "_view_module_version": "1.5.0",
            "box_style": "",
            "layout": "IPY_MODEL_6d988f373ce243398e2319400bd2c985",
            "_model_module": "@jupyter-widgets/controls",
            "children": [
              "IPY_MODEL_ea6ee17120a44df7b075fcec5d2d0594",
              "IPY_MODEL_c609656aae694ce7b58a800bd12f1200"
            ]
          }
        },
        "6d988f373ce243398e2319400bd2c985": {
          "model_module": "@jupyter-widgets/base",
          "model_name": "LayoutModel",
          "state": {
            "_view_name": "LayoutView",
            "grid_template_rows": null,
            "right": null,
            "justify_content": null,
            "_view_module": "@jupyter-widgets/base",
            "overflow": null,
            "_model_module_version": "1.2.0",
            "_view_count": null,
            "flex_flow": null,
            "width": null,
            "min_width": null,
            "border": null,
            "align_items": null,
            "bottom": null,
            "_model_module": "@jupyter-widgets/base",
            "top": null,
            "grid_column": null,
            "overflow_y": null,
            "overflow_x": null,
            "grid_auto_flow": null,
            "grid_area": null,
            "grid_template_columns": null,
            "flex": null,
            "_model_name": "LayoutModel",
            "justify_items": null,
            "grid_row": null,
            "max_height": null,
            "align_content": null,
            "visibility": null,
            "align_self": null,
            "height": null,
            "min_height": null,
            "padding": null,
            "grid_auto_rows": null,
            "grid_gap": null,
            "max_width": null,
            "order": null,
            "_view_module_version": "1.2.0",
            "grid_template_areas": null,
            "object_position": null,
            "object_fit": null,
            "grid_auto_columns": null,
            "margin": null,
            "display": null,
            "left": null
          }
        },
        "ea6ee17120a44df7b075fcec5d2d0594": {
          "model_module": "@jupyter-widgets/controls",
          "model_name": "FloatProgressModel",
          "state": {
            "_view_name": "ProgressView",
            "style": "IPY_MODEL_d52b858f6f054c05bb82aafd4916731b",
            "_dom_classes": [],
            "description": "",
            "_model_name": "FloatProgressModel",
            "bar_style": "info",
            "max": 1,
            "_view_module": "@jupyter-widgets/controls",
            "_model_module_version": "1.5.0",
            "value": 1,
            "_view_count": null,
            "_view_module_version": "1.5.0",
            "orientation": "horizontal",
            "min": 0,
            "description_tooltip": null,
            "_model_module": "@jupyter-widgets/controls",
            "layout": "IPY_MODEL_aade7962796e44979c02d15aadb5c973"
          }
        },
        "c609656aae694ce7b58a800bd12f1200": {
          "model_module": "@jupyter-widgets/controls",
          "model_name": "HTMLModel",
          "state": {
            "_view_name": "HTMLView",
            "style": "IPY_MODEL_13fa49a015424f34a91be9d8023c2f2c",
            "_dom_classes": [],
            "description": "",
            "_model_name": "HTMLModel",
            "placeholder": "​",
            "_view_module": "@jupyter-widgets/controls",
            "_model_module_version": "1.5.0",
            "value": " 9920512/? [00:20&lt;00:00, 14779905.11it/s]",
            "_view_count": null,
            "_view_module_version": "1.5.0",
            "description_tooltip": null,
            "_model_module": "@jupyter-widgets/controls",
            "layout": "IPY_MODEL_dcaf607af5d04bf8ad51d09422a813af"
          }
        },
        "d52b858f6f054c05bb82aafd4916731b": {
          "model_module": "@jupyter-widgets/controls",
          "model_name": "ProgressStyleModel",
          "state": {
            "_view_name": "StyleView",
            "_model_name": "ProgressStyleModel",
            "description_width": "initial",
            "_view_module": "@jupyter-widgets/base",
            "_model_module_version": "1.5.0",
            "_view_count": null,
            "_view_module_version": "1.2.0",
            "bar_color": null,
            "_model_module": "@jupyter-widgets/controls"
          }
        },
        "aade7962796e44979c02d15aadb5c973": {
          "model_module": "@jupyter-widgets/base",
          "model_name": "LayoutModel",
          "state": {
            "_view_name": "LayoutView",
            "grid_template_rows": null,
            "right": null,
            "justify_content": null,
            "_view_module": "@jupyter-widgets/base",
            "overflow": null,
            "_model_module_version": "1.2.0",
            "_view_count": null,
            "flex_flow": null,
            "width": null,
            "min_width": null,
            "border": null,
            "align_items": null,
            "bottom": null,
            "_model_module": "@jupyter-widgets/base",
            "top": null,
            "grid_column": null,
            "overflow_y": null,
            "overflow_x": null,
            "grid_auto_flow": null,
            "grid_area": null,
            "grid_template_columns": null,
            "flex": null,
            "_model_name": "LayoutModel",
            "justify_items": null,
            "grid_row": null,
            "max_height": null,
            "align_content": null,
            "visibility": null,
            "align_self": null,
            "height": null,
            "min_height": null,
            "padding": null,
            "grid_auto_rows": null,
            "grid_gap": null,
            "max_width": null,
            "order": null,
            "_view_module_version": "1.2.0",
            "grid_template_areas": null,
            "object_position": null,
            "object_fit": null,
            "grid_auto_columns": null,
            "margin": null,
            "display": null,
            "left": null
          }
        },
        "13fa49a015424f34a91be9d8023c2f2c": {
          "model_module": "@jupyter-widgets/controls",
          "model_name": "DescriptionStyleModel",
          "state": {
            "_view_name": "StyleView",
            "_model_name": "DescriptionStyleModel",
            "description_width": "",
            "_view_module": "@jupyter-widgets/base",
            "_model_module_version": "1.5.0",
            "_view_count": null,
            "_view_module_version": "1.2.0",
            "_model_module": "@jupyter-widgets/controls"
          }
        },
        "dcaf607af5d04bf8ad51d09422a813af": {
          "model_module": "@jupyter-widgets/base",
          "model_name": "LayoutModel",
          "state": {
            "_view_name": "LayoutView",
            "grid_template_rows": null,
            "right": null,
            "justify_content": null,
            "_view_module": "@jupyter-widgets/base",
            "overflow": null,
            "_model_module_version": "1.2.0",
            "_view_count": null,
            "flex_flow": null,
            "width": null,
            "min_width": null,
            "border": null,
            "align_items": null,
            "bottom": null,
            "_model_module": "@jupyter-widgets/base",
            "top": null,
            "grid_column": null,
            "overflow_y": null,
            "overflow_x": null,
            "grid_auto_flow": null,
            "grid_area": null,
            "grid_template_columns": null,
            "flex": null,
            "_model_name": "LayoutModel",
            "justify_items": null,
            "grid_row": null,
            "max_height": null,
            "align_content": null,
            "visibility": null,
            "align_self": null,
            "height": null,
            "min_height": null,
            "padding": null,
            "grid_auto_rows": null,
            "grid_gap": null,
            "max_width": null,
            "order": null,
            "_view_module_version": "1.2.0",
            "grid_template_areas": null,
            "object_position": null,
            "object_fit": null,
            "grid_auto_columns": null,
            "margin": null,
            "display": null,
            "left": null
          }
        },
        "2964a4bd0b6a466fae6066412c9b03e0": {
          "model_module": "@jupyter-widgets/controls",
          "model_name": "HBoxModel",
          "state": {
            "_view_name": "HBoxView",
            "_dom_classes": [],
            "_model_name": "HBoxModel",
            "_view_module": "@jupyter-widgets/controls",
            "_model_module_version": "1.5.0",
            "_view_count": null,
            "_view_module_version": "1.5.0",
            "box_style": "",
            "layout": "IPY_MODEL_7b9cae53e07f45c7b9f1ca1cf7259b2e",
            "_model_module": "@jupyter-widgets/controls",
            "children": [
              "IPY_MODEL_d9778b5d2d7a486eacf8587ddfe75801",
              "IPY_MODEL_3bab8f33d00642f091e986634998611e"
            ]
          }
        },
        "7b9cae53e07f45c7b9f1ca1cf7259b2e": {
          "model_module": "@jupyter-widgets/base",
          "model_name": "LayoutModel",
          "state": {
            "_view_name": "LayoutView",
            "grid_template_rows": null,
            "right": null,
            "justify_content": null,
            "_view_module": "@jupyter-widgets/base",
            "overflow": null,
            "_model_module_version": "1.2.0",
            "_view_count": null,
            "flex_flow": null,
            "width": null,
            "min_width": null,
            "border": null,
            "align_items": null,
            "bottom": null,
            "_model_module": "@jupyter-widgets/base",
            "top": null,
            "grid_column": null,
            "overflow_y": null,
            "overflow_x": null,
            "grid_auto_flow": null,
            "grid_area": null,
            "grid_template_columns": null,
            "flex": null,
            "_model_name": "LayoutModel",
            "justify_items": null,
            "grid_row": null,
            "max_height": null,
            "align_content": null,
            "visibility": null,
            "align_self": null,
            "height": null,
            "min_height": null,
            "padding": null,
            "grid_auto_rows": null,
            "grid_gap": null,
            "max_width": null,
            "order": null,
            "_view_module_version": "1.2.0",
            "grid_template_areas": null,
            "object_position": null,
            "object_fit": null,
            "grid_auto_columns": null,
            "margin": null,
            "display": null,
            "left": null
          }
        },
        "d9778b5d2d7a486eacf8587ddfe75801": {
          "model_module": "@jupyter-widgets/controls",
          "model_name": "FloatProgressModel",
          "state": {
            "_view_name": "ProgressView",
            "style": "IPY_MODEL_9cc30a6e9af040eeb11d7fbfb50bf74f",
            "_dom_classes": [],
            "description": "",
            "_model_name": "FloatProgressModel",
            "bar_style": "success",
            "max": 1,
            "_view_module": "@jupyter-widgets/controls",
            "_model_module_version": "1.5.0",
            "value": 1,
            "_view_count": null,
            "_view_module_version": "1.5.0",
            "orientation": "horizontal",
            "min": 0,
            "description_tooltip": null,
            "_model_module": "@jupyter-widgets/controls",
            "layout": "IPY_MODEL_06f562aa611e42b49d3f06ad775e940d"
          }
        },
        "3bab8f33d00642f091e986634998611e": {
          "model_module": "@jupyter-widgets/controls",
          "model_name": "HTMLModel",
          "state": {
            "_view_name": "HTMLView",
            "style": "IPY_MODEL_ed37ce9e131946a1a2f79413e12e73e1",
            "_dom_classes": [],
            "description": "",
            "_model_name": "HTMLModel",
            "placeholder": "​",
            "_view_module": "@jupyter-widgets/controls",
            "_model_module_version": "1.5.0",
            "value": " 32768/? [00:00&lt;00:00, 353010.41it/s]",
            "_view_count": null,
            "_view_module_version": "1.5.0",
            "description_tooltip": null,
            "_model_module": "@jupyter-widgets/controls",
            "layout": "IPY_MODEL_8d051bfb4c01426692c638c02236b578"
          }
        },
        "9cc30a6e9af040eeb11d7fbfb50bf74f": {
          "model_module": "@jupyter-widgets/controls",
          "model_name": "ProgressStyleModel",
          "state": {
            "_view_name": "StyleView",
            "_model_name": "ProgressStyleModel",
            "description_width": "initial",
            "_view_module": "@jupyter-widgets/base",
            "_model_module_version": "1.5.0",
            "_view_count": null,
            "_view_module_version": "1.2.0",
            "bar_color": null,
            "_model_module": "@jupyter-widgets/controls"
          }
        },
        "06f562aa611e42b49d3f06ad775e940d": {
          "model_module": "@jupyter-widgets/base",
          "model_name": "LayoutModel",
          "state": {
            "_view_name": "LayoutView",
            "grid_template_rows": null,
            "right": null,
            "justify_content": null,
            "_view_module": "@jupyter-widgets/base",
            "overflow": null,
            "_model_module_version": "1.2.0",
            "_view_count": null,
            "flex_flow": null,
            "width": null,
            "min_width": null,
            "border": null,
            "align_items": null,
            "bottom": null,
            "_model_module": "@jupyter-widgets/base",
            "top": null,
            "grid_column": null,
            "overflow_y": null,
            "overflow_x": null,
            "grid_auto_flow": null,
            "grid_area": null,
            "grid_template_columns": null,
            "flex": null,
            "_model_name": "LayoutModel",
            "justify_items": null,
            "grid_row": null,
            "max_height": null,
            "align_content": null,
            "visibility": null,
            "align_self": null,
            "height": null,
            "min_height": null,
            "padding": null,
            "grid_auto_rows": null,
            "grid_gap": null,
            "max_width": null,
            "order": null,
            "_view_module_version": "1.2.0",
            "grid_template_areas": null,
            "object_position": null,
            "object_fit": null,
            "grid_auto_columns": null,
            "margin": null,
            "display": null,
            "left": null
          }
        },
        "ed37ce9e131946a1a2f79413e12e73e1": {
          "model_module": "@jupyter-widgets/controls",
          "model_name": "DescriptionStyleModel",
          "state": {
            "_view_name": "StyleView",
            "_model_name": "DescriptionStyleModel",
            "description_width": "",
            "_view_module": "@jupyter-widgets/base",
            "_model_module_version": "1.5.0",
            "_view_count": null,
            "_view_module_version": "1.2.0",
            "_model_module": "@jupyter-widgets/controls"
          }
        },
        "8d051bfb4c01426692c638c02236b578": {
          "model_module": "@jupyter-widgets/base",
          "model_name": "LayoutModel",
          "state": {
            "_view_name": "LayoutView",
            "grid_template_rows": null,
            "right": null,
            "justify_content": null,
            "_view_module": "@jupyter-widgets/base",
            "overflow": null,
            "_model_module_version": "1.2.0",
            "_view_count": null,
            "flex_flow": null,
            "width": null,
            "min_width": null,
            "border": null,
            "align_items": null,
            "bottom": null,
            "_model_module": "@jupyter-widgets/base",
            "top": null,
            "grid_column": null,
            "overflow_y": null,
            "overflow_x": null,
            "grid_auto_flow": null,
            "grid_area": null,
            "grid_template_columns": null,
            "flex": null,
            "_model_name": "LayoutModel",
            "justify_items": null,
            "grid_row": null,
            "max_height": null,
            "align_content": null,
            "visibility": null,
            "align_self": null,
            "height": null,
            "min_height": null,
            "padding": null,
            "grid_auto_rows": null,
            "grid_gap": null,
            "max_width": null,
            "order": null,
            "_view_module_version": "1.2.0",
            "grid_template_areas": null,
            "object_position": null,
            "object_fit": null,
            "grid_auto_columns": null,
            "margin": null,
            "display": null,
            "left": null
          }
        },
        "c952fff2a4594057a4871881e9dc6c2b": {
          "model_module": "@jupyter-widgets/controls",
          "model_name": "HBoxModel",
          "state": {
            "_view_name": "HBoxView",
            "_dom_classes": [],
            "_model_name": "HBoxModel",
            "_view_module": "@jupyter-widgets/controls",
            "_model_module_version": "1.5.0",
            "_view_count": null,
            "_view_module_version": "1.5.0",
            "box_style": "",
            "layout": "IPY_MODEL_bd9269fc976b457987035c9734541934",
            "_model_module": "@jupyter-widgets/controls",
            "children": [
              "IPY_MODEL_a3c492ba8d044c6498ae350d14eeec74",
              "IPY_MODEL_7debafa6ccdc495da1807248f6a807ab"
            ]
          }
        },
        "bd9269fc976b457987035c9734541934": {
          "model_module": "@jupyter-widgets/base",
          "model_name": "LayoutModel",
          "state": {
            "_view_name": "LayoutView",
            "grid_template_rows": null,
            "right": null,
            "justify_content": null,
            "_view_module": "@jupyter-widgets/base",
            "overflow": null,
            "_model_module_version": "1.2.0",
            "_view_count": null,
            "flex_flow": null,
            "width": null,
            "min_width": null,
            "border": null,
            "align_items": null,
            "bottom": null,
            "_model_module": "@jupyter-widgets/base",
            "top": null,
            "grid_column": null,
            "overflow_y": null,
            "overflow_x": null,
            "grid_auto_flow": null,
            "grid_area": null,
            "grid_template_columns": null,
            "flex": null,
            "_model_name": "LayoutModel",
            "justify_items": null,
            "grid_row": null,
            "max_height": null,
            "align_content": null,
            "visibility": null,
            "align_self": null,
            "height": null,
            "min_height": null,
            "padding": null,
            "grid_auto_rows": null,
            "grid_gap": null,
            "max_width": null,
            "order": null,
            "_view_module_version": "1.2.0",
            "grid_template_areas": null,
            "object_position": null,
            "object_fit": null,
            "grid_auto_columns": null,
            "margin": null,
            "display": null,
            "left": null
          }
        },
        "a3c492ba8d044c6498ae350d14eeec74": {
          "model_module": "@jupyter-widgets/controls",
          "model_name": "FloatProgressModel",
          "state": {
            "_view_name": "ProgressView",
            "style": "IPY_MODEL_4f3dc396b0d84b99880c5c785e8f50b9",
            "_dom_classes": [],
            "description": "",
            "_model_name": "FloatProgressModel",
            "bar_style": "info",
            "max": 1,
            "_view_module": "@jupyter-widgets/controls",
            "_model_module_version": "1.5.0",
            "value": 1,
            "_view_count": null,
            "_view_module_version": "1.5.0",
            "orientation": "horizontal",
            "min": 0,
            "description_tooltip": null,
            "_model_module": "@jupyter-widgets/controls",
            "layout": "IPY_MODEL_052ab15a0c6d45418cdd98ce61b2ce69"
          }
        },
        "7debafa6ccdc495da1807248f6a807ab": {
          "model_module": "@jupyter-widgets/controls",
          "model_name": "HTMLModel",
          "state": {
            "_view_name": "HTMLView",
            "style": "IPY_MODEL_477642541f7e4e17a349aa05b50bd7fe",
            "_dom_classes": [],
            "description": "",
            "_model_name": "HTMLModel",
            "placeholder": "​",
            "_view_module": "@jupyter-widgets/controls",
            "_model_module_version": "1.5.0",
            "value": " 1654784/? [00:19&lt;00:00, 140715.37it/s]",
            "_view_count": null,
            "_view_module_version": "1.5.0",
            "description_tooltip": null,
            "_model_module": "@jupyter-widgets/controls",
            "layout": "IPY_MODEL_cd911328759b4993bbb18e3f3025fe32"
          }
        },
        "4f3dc396b0d84b99880c5c785e8f50b9": {
          "model_module": "@jupyter-widgets/controls",
          "model_name": "ProgressStyleModel",
          "state": {
            "_view_name": "StyleView",
            "_model_name": "ProgressStyleModel",
            "description_width": "initial",
            "_view_module": "@jupyter-widgets/base",
            "_model_module_version": "1.5.0",
            "_view_count": null,
            "_view_module_version": "1.2.0",
            "bar_color": null,
            "_model_module": "@jupyter-widgets/controls"
          }
        },
        "052ab15a0c6d45418cdd98ce61b2ce69": {
          "model_module": "@jupyter-widgets/base",
          "model_name": "LayoutModel",
          "state": {
            "_view_name": "LayoutView",
            "grid_template_rows": null,
            "right": null,
            "justify_content": null,
            "_view_module": "@jupyter-widgets/base",
            "overflow": null,
            "_model_module_version": "1.2.0",
            "_view_count": null,
            "flex_flow": null,
            "width": null,
            "min_width": null,
            "border": null,
            "align_items": null,
            "bottom": null,
            "_model_module": "@jupyter-widgets/base",
            "top": null,
            "grid_column": null,
            "overflow_y": null,
            "overflow_x": null,
            "grid_auto_flow": null,
            "grid_area": null,
            "grid_template_columns": null,
            "flex": null,
            "_model_name": "LayoutModel",
            "justify_items": null,
            "grid_row": null,
            "max_height": null,
            "align_content": null,
            "visibility": null,
            "align_self": null,
            "height": null,
            "min_height": null,
            "padding": null,
            "grid_auto_rows": null,
            "grid_gap": null,
            "max_width": null,
            "order": null,
            "_view_module_version": "1.2.0",
            "grid_template_areas": null,
            "object_position": null,
            "object_fit": null,
            "grid_auto_columns": null,
            "margin": null,
            "display": null,
            "left": null
          }
        },
        "477642541f7e4e17a349aa05b50bd7fe": {
          "model_module": "@jupyter-widgets/controls",
          "model_name": "DescriptionStyleModel",
          "state": {
            "_view_name": "StyleView",
            "_model_name": "DescriptionStyleModel",
            "description_width": "",
            "_view_module": "@jupyter-widgets/base",
            "_model_module_version": "1.5.0",
            "_view_count": null,
            "_view_module_version": "1.2.0",
            "_model_module": "@jupyter-widgets/controls"
          }
        },
        "cd911328759b4993bbb18e3f3025fe32": {
          "model_module": "@jupyter-widgets/base",
          "model_name": "LayoutModel",
          "state": {
            "_view_name": "LayoutView",
            "grid_template_rows": null,
            "right": null,
            "justify_content": null,
            "_view_module": "@jupyter-widgets/base",
            "overflow": null,
            "_model_module_version": "1.2.0",
            "_view_count": null,
            "flex_flow": null,
            "width": null,
            "min_width": null,
            "border": null,
            "align_items": null,
            "bottom": null,
            "_model_module": "@jupyter-widgets/base",
            "top": null,
            "grid_column": null,
            "overflow_y": null,
            "overflow_x": null,
            "grid_auto_flow": null,
            "grid_area": null,
            "grid_template_columns": null,
            "flex": null,
            "_model_name": "LayoutModel",
            "justify_items": null,
            "grid_row": null,
            "max_height": null,
            "align_content": null,
            "visibility": null,
            "align_self": null,
            "height": null,
            "min_height": null,
            "padding": null,
            "grid_auto_rows": null,
            "grid_gap": null,
            "max_width": null,
            "order": null,
            "_view_module_version": "1.2.0",
            "grid_template_areas": null,
            "object_position": null,
            "object_fit": null,
            "grid_auto_columns": null,
            "margin": null,
            "display": null,
            "left": null
          }
        },
        "e1aed64c355545b9bb533e5aa35efd1b": {
          "model_module": "@jupyter-widgets/controls",
          "model_name": "HBoxModel",
          "state": {
            "_view_name": "HBoxView",
            "_dom_classes": [],
            "_model_name": "HBoxModel",
            "_view_module": "@jupyter-widgets/controls",
            "_model_module_version": "1.5.0",
            "_view_count": null,
            "_view_module_version": "1.5.0",
            "box_style": "",
            "layout": "IPY_MODEL_e85b3a4f8fc74675b03052e6b57de597",
            "_model_module": "@jupyter-widgets/controls",
            "children": [
              "IPY_MODEL_f9644c34059841eeb88e1a83f2581fbf",
              "IPY_MODEL_a3382e2bbf3645f5b426bd4373352c91"
            ]
          }
        },
        "e85b3a4f8fc74675b03052e6b57de597": {
          "model_module": "@jupyter-widgets/base",
          "model_name": "LayoutModel",
          "state": {
            "_view_name": "LayoutView",
            "grid_template_rows": null,
            "right": null,
            "justify_content": null,
            "_view_module": "@jupyter-widgets/base",
            "overflow": null,
            "_model_module_version": "1.2.0",
            "_view_count": null,
            "flex_flow": null,
            "width": null,
            "min_width": null,
            "border": null,
            "align_items": null,
            "bottom": null,
            "_model_module": "@jupyter-widgets/base",
            "top": null,
            "grid_column": null,
            "overflow_y": null,
            "overflow_x": null,
            "grid_auto_flow": null,
            "grid_area": null,
            "grid_template_columns": null,
            "flex": null,
            "_model_name": "LayoutModel",
            "justify_items": null,
            "grid_row": null,
            "max_height": null,
            "align_content": null,
            "visibility": null,
            "align_self": null,
            "height": null,
            "min_height": null,
            "padding": null,
            "grid_auto_rows": null,
            "grid_gap": null,
            "max_width": null,
            "order": null,
            "_view_module_version": "1.2.0",
            "grid_template_areas": null,
            "object_position": null,
            "object_fit": null,
            "grid_auto_columns": null,
            "margin": null,
            "display": null,
            "left": null
          }
        },
        "f9644c34059841eeb88e1a83f2581fbf": {
          "model_module": "@jupyter-widgets/controls",
          "model_name": "FloatProgressModel",
          "state": {
            "_view_name": "ProgressView",
            "style": "IPY_MODEL_7901edd4cf4f4928afd5d55dd2eb689e",
            "_dom_classes": [],
            "description": "",
            "_model_name": "FloatProgressModel",
            "bar_style": "success",
            "max": 1,
            "_view_module": "@jupyter-widgets/controls",
            "_model_module_version": "1.5.0",
            "value": 1,
            "_view_count": null,
            "_view_module_version": "1.5.0",
            "orientation": "horizontal",
            "min": 0,
            "description_tooltip": null,
            "_model_module": "@jupyter-widgets/controls",
            "layout": "IPY_MODEL_de505a7e6cf0494c9bf01b2936e4e21a"
          }
        },
        "a3382e2bbf3645f5b426bd4373352c91": {
          "model_module": "@jupyter-widgets/controls",
          "model_name": "HTMLModel",
          "state": {
            "_view_name": "HTMLView",
            "style": "IPY_MODEL_7b2d79a186d54a70a5af8dbc296f41e9",
            "_dom_classes": [],
            "description": "",
            "_model_name": "HTMLModel",
            "placeholder": "​",
            "_view_module": "@jupyter-widgets/controls",
            "_model_module_version": "1.5.0",
            "value": " 8192/? [00:00&lt;00:00, 38560.95it/s]",
            "_view_count": null,
            "_view_module_version": "1.5.0",
            "description_tooltip": null,
            "_model_module": "@jupyter-widgets/controls",
            "layout": "IPY_MODEL_f44518a2ea3842669c0116fdad8b0737"
          }
        },
        "7901edd4cf4f4928afd5d55dd2eb689e": {
          "model_module": "@jupyter-widgets/controls",
          "model_name": "ProgressStyleModel",
          "state": {
            "_view_name": "StyleView",
            "_model_name": "ProgressStyleModel",
            "description_width": "initial",
            "_view_module": "@jupyter-widgets/base",
            "_model_module_version": "1.5.0",
            "_view_count": null,
            "_view_module_version": "1.2.0",
            "bar_color": null,
            "_model_module": "@jupyter-widgets/controls"
          }
        },
        "de505a7e6cf0494c9bf01b2936e4e21a": {
          "model_module": "@jupyter-widgets/base",
          "model_name": "LayoutModel",
          "state": {
            "_view_name": "LayoutView",
            "grid_template_rows": null,
            "right": null,
            "justify_content": null,
            "_view_module": "@jupyter-widgets/base",
            "overflow": null,
            "_model_module_version": "1.2.0",
            "_view_count": null,
            "flex_flow": null,
            "width": null,
            "min_width": null,
            "border": null,
            "align_items": null,
            "bottom": null,
            "_model_module": "@jupyter-widgets/base",
            "top": null,
            "grid_column": null,
            "overflow_y": null,
            "overflow_x": null,
            "grid_auto_flow": null,
            "grid_area": null,
            "grid_template_columns": null,
            "flex": null,
            "_model_name": "LayoutModel",
            "justify_items": null,
            "grid_row": null,
            "max_height": null,
            "align_content": null,
            "visibility": null,
            "align_self": null,
            "height": null,
            "min_height": null,
            "padding": null,
            "grid_auto_rows": null,
            "grid_gap": null,
            "max_width": null,
            "order": null,
            "_view_module_version": "1.2.0",
            "grid_template_areas": null,
            "object_position": null,
            "object_fit": null,
            "grid_auto_columns": null,
            "margin": null,
            "display": null,
            "left": null
          }
        },
        "7b2d79a186d54a70a5af8dbc296f41e9": {
          "model_module": "@jupyter-widgets/controls",
          "model_name": "DescriptionStyleModel",
          "state": {
            "_view_name": "StyleView",
            "_model_name": "DescriptionStyleModel",
            "description_width": "",
            "_view_module": "@jupyter-widgets/base",
            "_model_module_version": "1.5.0",
            "_view_count": null,
            "_view_module_version": "1.2.0",
            "_model_module": "@jupyter-widgets/controls"
          }
        },
        "f44518a2ea3842669c0116fdad8b0737": {
          "model_module": "@jupyter-widgets/base",
          "model_name": "LayoutModel",
          "state": {
            "_view_name": "LayoutView",
            "grid_template_rows": null,
            "right": null,
            "justify_content": null,
            "_view_module": "@jupyter-widgets/base",
            "overflow": null,
            "_model_module_version": "1.2.0",
            "_view_count": null,
            "flex_flow": null,
            "width": null,
            "min_width": null,
            "border": null,
            "align_items": null,
            "bottom": null,
            "_model_module": "@jupyter-widgets/base",
            "top": null,
            "grid_column": null,
            "overflow_y": null,
            "overflow_x": null,
            "grid_auto_flow": null,
            "grid_area": null,
            "grid_template_columns": null,
            "flex": null,
            "_model_name": "LayoutModel",
            "justify_items": null,
            "grid_row": null,
            "max_height": null,
            "align_content": null,
            "visibility": null,
            "align_self": null,
            "height": null,
            "min_height": null,
            "padding": null,
            "grid_auto_rows": null,
            "grid_gap": null,
            "max_width": null,
            "order": null,
            "_view_module_version": "1.2.0",
            "grid_template_areas": null,
            "object_position": null,
            "object_fit": null,
            "grid_auto_columns": null,
            "margin": null,
            "display": null,
            "left": null
          }
        }
      }
    }
  },
  "cells": [
    {
      "cell_type": "code",
      "metadata": {
        "ExecuteTime": {
          "end_time": "2020-06-09T20:24:30.358583Z",
          "start_time": "2020-06-09T20:24:24.997418Z"
        },
        "id": "2s9jSImcxk5z",
        "colab_type": "code",
        "colab": {}
      },
      "source": [
        "%matplotlib inline"
      ],
      "execution_count": 0,
      "outputs": []
    },
    {
      "cell_type": "markdown",
      "metadata": {
        "id": "_YxGQKoZxk54",
        "colab_type": "text"
      },
      "source": [
        "\n",
        "Spatial Transformer Networks Tutorial\n",
        "=====================================\n",
        "**Author**: `Ghassen HAMROUNI <https://github.com/GHamrouni>`_\n",
        "\n",
        "![image.png](https://pytorch.org/tutorials/_images/FSeq.png)\n",
        "\n",
        "In this tutorial, you will learn how to augment your network using\n",
        "a visual attention mechanism called spatial transformer\n",
        "networks. You can read more about the spatial transformer\n",
        "networks in the [DeepMind paper](https://arxiv.org/abs/1506.02025)\n",
        "\n",
        "Spatial transformer networks are **a generalization of differentiable\n",
        "attention to any spatial transformation**. Spatial transformer networks\n",
        "(STN for short) allow a neural network to **learn how to perform spatial\n",
        "transformations on the input image in order to enhance the geometric\n",
        "invariance of the model**.\n",
        "For example, it can crop a region of interest, scale and correct\n",
        "the orientation of an image. It can be a useful mechanism because CNNs\n",
        "are not invariant to rotation and scale and more general affine\n",
        "transformations.\n",
        "\n",
        "One of the best things about STN is the ability to simply plug it into\n",
        "any existing CNN with very little modification.\n",
        "\n"
      ]
    },
    {
      "cell_type": "code",
      "metadata": {
        "ExecuteTime": {
          "end_time": "2020-06-09T20:24:43.962428Z",
          "start_time": "2020-06-09T20:24:30.362452Z"
        },
        "id": "X5xaBIiMxk55",
        "colab_type": "code",
        "colab": {}
      },
      "source": [
        "# License: BSD\n",
        "# Author: Ghassen Hamrouni\n",
        "\n",
        "from __future__ import print_function\n",
        "import torch\n",
        "import torch.nn as nn\n",
        "import torch.nn.functional as F\n",
        "import torch.optim as optim\n",
        "import torchvision\n",
        "from torchvision import datasets, transforms\n",
        "import matplotlib.pyplot as plt\n",
        "import numpy as np\n",
        "\n",
        "plt.ion()   # interactive mode"
      ],
      "execution_count": 0,
      "outputs": []
    },
    {
      "cell_type": "markdown",
      "metadata": {
        "id": "9MhIwIW6xk59",
        "colab_type": "text"
      },
      "source": [
        "Loading the data\n",
        "----------------\n",
        "\n",
        "In this post we experiment with the classic MNIST dataset. Using a\n",
        "standard convolutional network augmented with a spatial transformer\n",
        "network.\n",
        "\n"
      ]
    },
    {
      "cell_type": "code",
      "metadata": {
        "ExecuteTime": {
          "end_time": "2020-06-09T20:24:46.192963Z",
          "start_time": "2020-06-09T20:24:43.965327Z"
        },
        "id": "95NEbp_nxk59",
        "colab_type": "code",
        "colab": {
          "base_uri": "https://localhost:8080/",
          "height": 366,
          "referenced_widgets": [
            "8deda27575994594b0f2d78f07a69d33",
            "6d988f373ce243398e2319400bd2c985",
            "ea6ee17120a44df7b075fcec5d2d0594",
            "c609656aae694ce7b58a800bd12f1200",
            "d52b858f6f054c05bb82aafd4916731b",
            "aade7962796e44979c02d15aadb5c973",
            "13fa49a015424f34a91be9d8023c2f2c",
            "dcaf607af5d04bf8ad51d09422a813af",
            "2964a4bd0b6a466fae6066412c9b03e0",
            "7b9cae53e07f45c7b9f1ca1cf7259b2e",
            "d9778b5d2d7a486eacf8587ddfe75801",
            "3bab8f33d00642f091e986634998611e",
            "9cc30a6e9af040eeb11d7fbfb50bf74f",
            "06f562aa611e42b49d3f06ad775e940d",
            "ed37ce9e131946a1a2f79413e12e73e1",
            "8d051bfb4c01426692c638c02236b578",
            "c952fff2a4594057a4871881e9dc6c2b",
            "bd9269fc976b457987035c9734541934",
            "a3c492ba8d044c6498ae350d14eeec74",
            "7debafa6ccdc495da1807248f6a807ab",
            "4f3dc396b0d84b99880c5c785e8f50b9",
            "052ab15a0c6d45418cdd98ce61b2ce69",
            "477642541f7e4e17a349aa05b50bd7fe",
            "cd911328759b4993bbb18e3f3025fe32",
            "e1aed64c355545b9bb533e5aa35efd1b",
            "e85b3a4f8fc74675b03052e6b57de597",
            "f9644c34059841eeb88e1a83f2581fbf",
            "a3382e2bbf3645f5b426bd4373352c91",
            "7901edd4cf4f4928afd5d55dd2eb689e",
            "de505a7e6cf0494c9bf01b2936e4e21a",
            "7b2d79a186d54a70a5af8dbc296f41e9",
            "f44518a2ea3842669c0116fdad8b0737"
          ]
        },
        "outputId": "f87e50b0-4d89-4275-8817-0955cdc9a5e2"
      },
      "source": [
        "device = torch.device(\"cuda\" if torch.cuda.is_available() else \"cpu\")\n",
        "\n",
        "# Training dataset\n",
        "train_loader = torch.utils.data.DataLoader(\n",
        "    datasets.MNIST(root='.', train=True, download=True,\n",
        "                   transform=transforms.Compose([\n",
        "                       transforms.ToTensor(),\n",
        "                       transforms.Normalize((0.1307,), (0.3081,))\n",
        "                   ])), batch_size=64, shuffle=True, num_workers=4)\n",
        "# Test dataset\n",
        "test_loader = torch.utils.data.DataLoader(\n",
        "    datasets.MNIST(root='.', train=False, transform=transforms.Compose([\n",
        "        transforms.ToTensor(),\n",
        "        transforms.Normalize((0.1307,), (0.3081,))\n",
        "    ])), batch_size=64, shuffle=True, num_workers=4)"
      ],
      "execution_count": 3,
      "outputs": [
        {
          "output_type": "stream",
          "text": [
            "Downloading http://yann.lecun.com/exdb/mnist/train-images-idx3-ubyte.gz to ./MNIST/raw/train-images-idx3-ubyte.gz\n"
          ],
          "name": "stdout"
        },
        {
          "output_type": "display_data",
          "data": {
            "application/vnd.jupyter.widget-view+json": {
              "model_id": "8deda27575994594b0f2d78f07a69d33",
              "version_minor": 0,
              "version_major": 2
            },
            "text/plain": [
              "HBox(children=(FloatProgress(value=1.0, bar_style='info', max=1.0), HTML(value='')))"
            ]
          },
          "metadata": {
            "tags": []
          }
        },
        {
          "output_type": "stream",
          "text": [
            "Extracting ./MNIST/raw/train-images-idx3-ubyte.gz to ./MNIST/raw\n",
            "Downloading http://yann.lecun.com/exdb/mnist/train-labels-idx1-ubyte.gz to ./MNIST/raw/train-labels-idx1-ubyte.gz\n"
          ],
          "name": "stdout"
        },
        {
          "output_type": "display_data",
          "data": {
            "application/vnd.jupyter.widget-view+json": {
              "model_id": "2964a4bd0b6a466fae6066412c9b03e0",
              "version_minor": 0,
              "version_major": 2
            },
            "text/plain": [
              "HBox(children=(FloatProgress(value=1.0, bar_style='info', max=1.0), HTML(value='')))"
            ]
          },
          "metadata": {
            "tags": []
          }
        },
        {
          "output_type": "stream",
          "text": [
            "Extracting ./MNIST/raw/train-labels-idx1-ubyte.gz to ./MNIST/raw\n",
            "Downloading http://yann.lecun.com/exdb/mnist/t10k-images-idx3-ubyte.gz to ./MNIST/raw/t10k-images-idx3-ubyte.gz\n",
            "\n"
          ],
          "name": "stdout"
        },
        {
          "output_type": "display_data",
          "data": {
            "application/vnd.jupyter.widget-view+json": {
              "model_id": "c952fff2a4594057a4871881e9dc6c2b",
              "version_minor": 0,
              "version_major": 2
            },
            "text/plain": [
              "HBox(children=(FloatProgress(value=1.0, bar_style='info', max=1.0), HTML(value='')))"
            ]
          },
          "metadata": {
            "tags": []
          }
        },
        {
          "output_type": "stream",
          "text": [
            "Extracting ./MNIST/raw/t10k-images-idx3-ubyte.gz to ./MNIST/raw\n",
            "Downloading http://yann.lecun.com/exdb/mnist/t10k-labels-idx1-ubyte.gz to ./MNIST/raw/t10k-labels-idx1-ubyte.gz\n"
          ],
          "name": "stdout"
        },
        {
          "output_type": "display_data",
          "data": {
            "application/vnd.jupyter.widget-view+json": {
              "model_id": "e1aed64c355545b9bb533e5aa35efd1b",
              "version_minor": 0,
              "version_major": 2
            },
            "text/plain": [
              "HBox(children=(FloatProgress(value=1.0, bar_style='info', max=1.0), HTML(value='')))"
            ]
          },
          "metadata": {
            "tags": []
          }
        },
        {
          "output_type": "stream",
          "text": [
            "Extracting ./MNIST/raw/t10k-labels-idx1-ubyte.gz to ./MNIST/raw\n",
            "Processing...\n",
            "Done!\n"
          ],
          "name": "stdout"
        },
        {
          "output_type": "stream",
          "text": [
            "/pytorch/torch/csrc/utils/tensor_numpy.cpp:141: UserWarning: The given NumPy array is not writeable, and PyTorch does not support non-writeable tensors. This means you can write to the underlying (supposedly non-writeable) NumPy array using the tensor. You may want to copy the array to protect its data or make it writeable before converting it to a tensor. This type of warning will be suppressed for the rest of this program.\n"
          ],
          "name": "stderr"
        }
      ]
    },
    {
      "cell_type": "markdown",
      "metadata": {
        "id": "epS0ouLmxk6C",
        "colab_type": "text"
      },
      "source": [
        "Depicting spatial transformer networks\n",
        "--------------------------------------\n",
        "\n",
        "Spatial transformer networks boils down to three main components :\n",
        "\n",
        "-  The localization network is a regular CNN which regresses the\n",
        "   transformation parameters. The transformation is never learned\n",
        "   explicitly from this dataset, instead the network learns automatically\n",
        "   the spatial transformations that enhances the global accuracy.\n",
        "-  The grid generator generates a grid of coordinates in the input\n",
        "   image corresponding to each pixel from the output image.\n",
        "-  The sampler uses the parameters of the transformation and applies\n",
        "   it to the input image.\n",
        "\n",
        "![image.png](https://pytorch.org/tutorials/_images/stn-arch.png)\n",
        "\n",
        ".. Note::\n",
        "   We need the latest version of PyTorch that contains\n",
        "   affine_grid and grid_sample modules.\n",
        "\n",
        "\n"
      ]
    },
    {
      "cell_type": "code",
      "metadata": {
        "ExecuteTime": {
          "end_time": "2020-06-09T20:25:09.039541Z",
          "start_time": "2020-06-09T20:24:46.194886Z"
        },
        "id": "D9Kh6TRzxk6D",
        "colab_type": "code",
        "colab": {
          "base_uri": "https://localhost:8080/",
          "height": 34
        },
        "outputId": "420d992d-5a09-4488-e8b1-683d19124a86"
      },
      "source": [
        "class Net(nn.Module):\n",
        "    def __init__(self):\n",
        "        super(Net, self).__init__()\n",
        "        self.conv1 = nn.Conv2d(1, 10, kernel_size=5)\n",
        "        self.conv2 = nn.Conv2d(10, 20, kernel_size=5)\n",
        "        self.conv2_drop = nn.Dropout2d()\n",
        "        self.fc1 = nn.Linear(320, 50)\n",
        "        self.fc2 = nn.Linear(50, 10)\n",
        "\n",
        "        # Spatial transformer localization-network\n",
        "        self.localization = nn.Sequential(\n",
        "            nn.Conv2d(1, 8, kernel_size=7),\n",
        "            nn.MaxPool2d(2, stride=2),\n",
        "            nn.ReLU(True),\n",
        "            nn.Conv2d(8, 10, kernel_size=5),\n",
        "            nn.MaxPool2d(2, stride=2),\n",
        "            nn.ReLU(True)\n",
        "        )\n",
        "\n",
        "        # Regressor for the 3 * 2 affine matrix\n",
        "        self.fc_loc = nn.Sequential(\n",
        "            nn.Linear(10 * 3 * 3, 32),\n",
        "            nn.ReLU(True),\n",
        "            nn.Linear(32, 3 * 2)\n",
        "        )\n",
        "\n",
        "        # Initialize the weights/bias with identity transformation\n",
        "        self.fc_loc[2].weight.data.zero_()\n",
        "        self.fc_loc[2].bias.data.copy_(torch.tensor([1, 0, 0, 0, 1, 0], dtype=torch.float))\n",
        "\n",
        "    # Spatial transformer network forward function\n",
        "    def stn(self, x):\n",
        "        xs = self.localization(x)\n",
        "        xs = xs.view(-1, 10 * 3 * 3)\n",
        "        theta = self.fc_loc(xs)\n",
        "        theta = theta.view(-1, 2, 3)\n",
        "\n",
        "        grid = F.affine_grid(theta, x.size())\n",
        "        x = F.grid_sample(x, grid)\n",
        "\n",
        "        return x\n",
        "\n",
        "    def forward(self, x):\n",
        "        # transform the input\n",
        "        x = self.stn(x)\n",
        "\n",
        "        # Perform the usual forward pass\n",
        "        x = F.relu(F.max_pool2d(self.conv1(x), 2))\n",
        "        x = F.relu(F.max_pool2d(self.conv2_drop(self.conv2(x)), 2))\n",
        "        x = x.view(-1, 320)\n",
        "        x = F.relu(self.fc1(x))\n",
        "        x = F.dropout(x, training=self.training)\n",
        "        x = self.fc2(x)\n",
        "        return F.log_softmax(x, dim=1)\n",
        "\n",
        "\n",
        "model = Net().to(device)"
      ],
      "execution_count": 4,
      "outputs": [
        {
          "output_type": "stream",
          "text": [
            "\n"
          ],
          "name": "stdout"
        }
      ]
    },
    {
      "cell_type": "markdown",
      "metadata": {
        "id": "9PkIV6a5xk6G",
        "colab_type": "text"
      },
      "source": [
        "Training the model\n",
        "------------------\n",
        "\n",
        "Now, let's use the SGD algorithm to train the model. The network is\n",
        "learning the classification task in a supervised way. In the same time\n",
        "the model is learning STN automatically in an end-to-end fashion.\n",
        "\n"
      ]
    },
    {
      "cell_type": "code",
      "metadata": {
        "ExecuteTime": {
          "end_time": "2020-06-09T20:25:09.093193Z",
          "start_time": "2020-06-09T20:25:09.044392Z"
        },
        "id": "BTIfJZ-bxk6H",
        "colab_type": "code",
        "colab": {}
      },
      "source": [
        "optimizer = optim.SGD(model.parameters(), lr=0.01)\n",
        "\n",
        "\n",
        "def train(epoch):\n",
        "    model.train()\n",
        "    for batch_idx, (data, target) in enumerate(train_loader):\n",
        "        data, target = data.to(device), target.to(device)\n",
        "\n",
        "        optimizer.zero_grad()\n",
        "        output = model(data)\n",
        "        loss = F.nll_loss(output, target)\n",
        "        loss.backward()\n",
        "        optimizer.step()\n",
        "        if batch_idx % 500 == 0:\n",
        "            print('Train Epoch: {} [{}/{} ({:.0f}%)]\\tLoss: {:.6f}'.format(\n",
        "                epoch, batch_idx * len(data), len(train_loader.dataset),\n",
        "                100. * batch_idx / len(train_loader), loss.item()))\n",
        "#\n",
        "# A simple test procedure to measure STN the performances on MNIST.\n",
        "#\n",
        "\n",
        "\n",
        "def test():\n",
        "    with torch.no_grad():\n",
        "        model.eval()\n",
        "        test_loss = 0\n",
        "        correct = 0\n",
        "        for data, target in test_loader:\n",
        "            data, target = data.to(device), target.to(device)\n",
        "            output = model(data)\n",
        "\n",
        "            # sum up batch loss\n",
        "            test_loss += F.nll_loss(output, target, size_average=False).item()\n",
        "            # get the index of the max log-probability\n",
        "            pred = output.max(1, keepdim=True)[1]\n",
        "            correct += pred.eq(target.view_as(pred)).sum().item()\n",
        "\n",
        "        test_loss /= len(test_loader.dataset)\n",
        "        print('\\nTest set: Average loss: {:.4f}, Accuracy: {}/{} ({:.0f}%)\\n'\n",
        "              .format(test_loss, correct, len(test_loader.dataset),\n",
        "                      100. * correct / len(test_loader.dataset)))"
      ],
      "execution_count": 0,
      "outputs": []
    },
    {
      "cell_type": "markdown",
      "metadata": {
        "id": "MPZO-reLxk6K",
        "colab_type": "text"
      },
      "source": [
        "Visualizing the STN results\n",
        "---------------------------\n",
        "\n",
        "Now, we will inspect the results of our learned visual attention\n",
        "mechanism.\n",
        "\n",
        "We define a small helper function in order to visualize the\n",
        "transformations while training.\n",
        "\n"
      ]
    },
    {
      "cell_type": "code",
      "metadata": {
        "ExecuteTime": {
          "end_time": "2020-06-09T20:25:09.206410Z",
          "start_time": "2020-06-09T20:25:09.097097Z"
        },
        "id": "Pm0kXwwkxk6L",
        "colab_type": "code",
        "colab": {}
      },
      "source": [
        "def convert_image_np(inp):\n",
        "    \"\"\"Convert a Tensor to numpy image.\"\"\"\n",
        "    inp = inp.numpy().transpose((1, 2, 0))\n",
        "    mean = np.array([0.485, 0.456, 0.406])\n",
        "    std = np.array([0.229, 0.224, 0.225])\n",
        "    inp = std * inp + mean\n",
        "    inp = np.clip(inp, 0, 1)\n",
        "    return inp\n",
        "\n",
        "# We want to visualize the output of the spatial transformers layer\n",
        "# after the training, we visualize a batch of input images and\n",
        "# the corresponding transformed batch using STN.\n",
        "\n",
        "\n",
        "def visualize_stn():\n",
        "    with torch.no_grad():\n",
        "        # Get a batch of training data\n",
        "        data = next(iter(test_loader))[0].to(device)\n",
        "\n",
        "        input_tensor = data.cpu()\n",
        "        transformed_input_tensor = model.stn(data).cpu()\n",
        "\n",
        "        in_grid = convert_image_np(torchvision.utils.make_grid(input_tensor))\n",
        "\n",
        "        out_grid = convert_image_np(torchvision.utils.make_grid(transformed_input_tensor))\n",
        "\n",
        "        # Plot the results side-by-side\n",
        "        f, axarr = plt.subplots(1, 2)\n",
        "        axarr[0].imshow(in_grid)\n",
        "        axarr[0].set_title('Dataset Images')\n",
        "\n",
        "        axarr[1].imshow(out_grid)\n",
        "        axarr[1].set_title('Transformed Images')"
      ],
      "execution_count": 0,
      "outputs": []
    },
    {
      "cell_type": "code",
      "metadata": {
        "ExecuteTime": {
          "end_time": "2020-06-09T20:28:42.400486Z",
          "start_time": "2020-06-09T20:25:09.210314Z"
        },
        "id": "QLbePxfyxk6P",
        "colab_type": "code",
        "colab": {
          "base_uri": "https://localhost:8080/",
          "height": 1000
        },
        "outputId": "59d42603-8096-4e2c-ccb9-d41b580f1145"
      },
      "source": [
        "for epoch in range(1, 20 + 1):\n",
        "    train(epoch)\n",
        "    test()"
      ],
      "execution_count": 7,
      "outputs": [
        {
          "output_type": "stream",
          "text": [
            "/usr/local/lib/python3.6/dist-packages/torch/nn/functional.py:3289: UserWarning: Default grid_sample and affine_grid behavior has changed to align_corners=False since 1.3.0. Please specify align_corners=True if the old behavior is desired. See the documentation of grid_sample for details.\n",
            "  warnings.warn(\"Default grid_sample and affine_grid behavior has changed \"\n",
            "/usr/local/lib/python3.6/dist-packages/torch/nn/functional.py:3226: UserWarning: Default grid_sample and affine_grid behavior has changed to align_corners=False since 1.3.0. Please specify align_corners=True if the old behavior is desired. See the documentation of grid_sample for details.\n",
            "  warnings.warn(\"Default grid_sample and affine_grid behavior has changed \"\n"
          ],
          "name": "stderr"
        },
        {
          "output_type": "stream",
          "text": [
            "Train Epoch: 1 [0/60000 (0%)]\tLoss: 2.305253\n",
            "Train Epoch: 1 [32000/60000 (53%)]\tLoss: 0.799011\n"
          ],
          "name": "stdout"
        },
        {
          "output_type": "stream",
          "text": [
            "/usr/local/lib/python3.6/dist-packages/torch/nn/_reduction.py:43: UserWarning: size_average and reduce args will be deprecated, please use reduction='sum' instead.\n",
            "  warnings.warn(warning.format(ret))\n"
          ],
          "name": "stderr"
        },
        {
          "output_type": "stream",
          "text": [
            "\n",
            "Test set: Average loss: 0.2026, Accuracy: 9440/10000 (94%)\n",
            "\n",
            "Train Epoch: 2 [0/60000 (0%)]\tLoss: 0.451288\n",
            "Train Epoch: 2 [32000/60000 (53%)]\tLoss: 0.469625\n",
            "\n",
            "Test set: Average loss: 0.1084, Accuracy: 9673/10000 (97%)\n",
            "\n",
            "Train Epoch: 3 [0/60000 (0%)]\tLoss: 0.240407\n",
            "Train Epoch: 3 [32000/60000 (53%)]\tLoss: 0.075150\n",
            "\n",
            "Test set: Average loss: 0.1757, Accuracy: 9473/10000 (95%)\n",
            "\n",
            "Train Epoch: 4 [0/60000 (0%)]\tLoss: 0.203181\n",
            "Train Epoch: 4 [32000/60000 (53%)]\tLoss: 0.080646\n",
            "\n",
            "Test set: Average loss: 0.1744, Accuracy: 9457/10000 (95%)\n",
            "\n",
            "Train Epoch: 5 [0/60000 (0%)]\tLoss: 0.606915\n",
            "Train Epoch: 5 [32000/60000 (53%)]\tLoss: 0.288987\n",
            "\n",
            "Test set: Average loss: 0.0630, Accuracy: 9815/10000 (98%)\n",
            "\n",
            "Train Epoch: 6 [0/60000 (0%)]\tLoss: 0.076881\n",
            "Train Epoch: 6 [32000/60000 (53%)]\tLoss: 0.176750\n",
            "\n",
            "Test set: Average loss: 0.0591, Accuracy: 9814/10000 (98%)\n",
            "\n",
            "Train Epoch: 7 [0/60000 (0%)]\tLoss: 0.152288\n",
            "Train Epoch: 7 [32000/60000 (53%)]\tLoss: 0.105266\n",
            "\n",
            "Test set: Average loss: 0.0541, Accuracy: 9834/10000 (98%)\n",
            "\n",
            "Train Epoch: 8 [0/60000 (0%)]\tLoss: 0.125524\n",
            "Train Epoch: 8 [32000/60000 (53%)]\tLoss: 0.111208\n",
            "\n",
            "Test set: Average loss: 0.0587, Accuracy: 9825/10000 (98%)\n",
            "\n",
            "Train Epoch: 9 [0/60000 (0%)]\tLoss: 0.191505\n",
            "Train Epoch: 9 [32000/60000 (53%)]\tLoss: 0.119326\n",
            "\n",
            "Test set: Average loss: 0.0498, Accuracy: 9850/10000 (98%)\n",
            "\n",
            "Train Epoch: 10 [0/60000 (0%)]\tLoss: 0.096381\n",
            "Train Epoch: 10 [32000/60000 (53%)]\tLoss: 0.170150\n",
            "\n",
            "Test set: Average loss: 0.1099, Accuracy: 9681/10000 (97%)\n",
            "\n",
            "Train Epoch: 11 [0/60000 (0%)]\tLoss: 0.129044\n",
            "Train Epoch: 11 [32000/60000 (53%)]\tLoss: 0.144031\n",
            "\n",
            "Test set: Average loss: 0.0473, Accuracy: 9856/10000 (99%)\n",
            "\n",
            "Train Epoch: 12 [0/60000 (0%)]\tLoss: 0.143752\n",
            "Train Epoch: 12 [32000/60000 (53%)]\tLoss: 0.218540\n",
            "\n",
            "Test set: Average loss: 0.0497, Accuracy: 9850/10000 (98%)\n",
            "\n",
            "Train Epoch: 13 [0/60000 (0%)]\tLoss: 0.164369\n",
            "Train Epoch: 13 [32000/60000 (53%)]\tLoss: 0.203091\n",
            "\n",
            "Test set: Average loss: 0.0519, Accuracy: 9852/10000 (99%)\n",
            "\n",
            "Train Epoch: 14 [0/60000 (0%)]\tLoss: 0.035908\n",
            "Train Epoch: 14 [32000/60000 (53%)]\tLoss: 0.092615\n",
            "\n",
            "Test set: Average loss: 0.0428, Accuracy: 9870/10000 (99%)\n",
            "\n",
            "Train Epoch: 15 [0/60000 (0%)]\tLoss: 0.055301\n",
            "Train Epoch: 15 [32000/60000 (53%)]\tLoss: 0.091953\n",
            "\n",
            "Test set: Average loss: 0.0414, Accuracy: 9869/10000 (99%)\n",
            "\n",
            "Train Epoch: 16 [0/60000 (0%)]\tLoss: 0.125747\n",
            "Train Epoch: 16 [32000/60000 (53%)]\tLoss: 0.118071\n",
            "\n",
            "Test set: Average loss: 0.0370, Accuracy: 9887/10000 (99%)\n",
            "\n",
            "Train Epoch: 17 [0/60000 (0%)]\tLoss: 0.112584\n",
            "Train Epoch: 17 [32000/60000 (53%)]\tLoss: 0.041336\n",
            "\n",
            "Test set: Average loss: 0.0681, Accuracy: 9794/10000 (98%)\n",
            "\n",
            "Train Epoch: 18 [0/60000 (0%)]\tLoss: 0.065323\n",
            "Train Epoch: 18 [32000/60000 (53%)]\tLoss: 0.273117\n",
            "\n",
            "Test set: Average loss: 0.0448, Accuracy: 9861/10000 (99%)\n",
            "\n",
            "Train Epoch: 19 [0/60000 (0%)]\tLoss: 0.013589\n",
            "Train Epoch: 19 [32000/60000 (53%)]\tLoss: 0.138934\n",
            "\n",
            "Test set: Average loss: 0.0424, Accuracy: 9875/10000 (99%)\n",
            "\n",
            "Train Epoch: 20 [0/60000 (0%)]\tLoss: 0.159093\n",
            "Train Epoch: 20 [32000/60000 (53%)]\tLoss: 0.117840\n",
            "\n",
            "Test set: Average loss: 0.0430, Accuracy: 9871/10000 (99%)\n",
            "\n"
          ],
          "name": "stdout"
        }
      ]
    },
    {
      "cell_type": "code",
      "metadata": {
        "ExecuteTime": {
          "end_time": "2020-06-09T20:28:42.444365Z",
          "start_time": "2020-06-09T20:24:25.001Z"
        },
        "id": "gQPwDXqbxk6T",
        "colab_type": "code",
        "colab": {
          "base_uri": "https://localhost:8080/",
          "height": 303
        },
        "outputId": "536fab22-2187-4fb1-b91a-4c3da4cbd604"
      },
      "source": [
        "# Visualize the STN transformation on some input batch\n",
        "visualize_stn()\n",
        "\n",
        "plt.ioff()\n",
        "plt.show()"
      ],
      "execution_count": 8,
      "outputs": [
        {
          "output_type": "stream",
          "text": [
            "/usr/local/lib/python3.6/dist-packages/torch/nn/functional.py:3289: UserWarning: Default grid_sample and affine_grid behavior has changed to align_corners=False since 1.3.0. Please specify align_corners=True if the old behavior is desired. See the documentation of grid_sample for details.\n",
            "  warnings.warn(\"Default grid_sample and affine_grid behavior has changed \"\n",
            "/usr/local/lib/python3.6/dist-packages/torch/nn/functional.py:3226: UserWarning: Default grid_sample and affine_grid behavior has changed to align_corners=False since 1.3.0. Please specify align_corners=True if the old behavior is desired. See the documentation of grid_sample for details.\n",
            "  warnings.warn(\"Default grid_sample and affine_grid behavior has changed \"\n"
          ],
          "name": "stderr"
        },
        {
          "output_type": "display_data",
          "data": {
            "image/png": "[encoded data removed]",
            "text/plain": [
              "<Figure size 432x288 with 2 Axes>"
            ]
          },
          "metadata": {
            "tags": [],
            "needs_background": "light"
          }
        }
      ]
    },
    {
      "cell_type": "markdown",
      "metadata": {
        "id": "bYw7Rn97xk6W",
        "colab_type": "text"
      },
      "source": [
        "# Changement de Transformation"
      ]
    },
    {
      "cell_type": "code",
      "metadata": {
        "ExecuteTime": {
          "end_time": "2020-06-09T20:28:42.446317Z",
          "start_time": "2020-06-09T20:24:25.005Z"
        },
        "id": "UoNGAk5sxk6W",
        "colab_type": "code",
        "colab": {}
      },
      "source": [
        "# Training dataset\n",
        "train_loader = torch.utils.data.DataLoader(\n",
        "    datasets.MNIST(root='.', train=True, download=True,\n",
        "                   transform=transforms.Compose([\n",
        "                       transforms.RandomAffine(25, translate=(0.2,0.2), scale=(1,2), shear=10, resample=False, fillcolor=0),\n",
        "                       transforms.ToTensor(),transforms.Normalize((0.1307,), (0.3081,))\n",
        "                   ])), batch_size=64, shuffle=True, num_workers=4)\n",
        "\n",
        "# Test dataset\n",
        "test_loader = torch.utils.data.DataLoader(\n",
        "    datasets.MNIST(root='.', train=False, transform=transforms.Compose([\n",
        "                transforms.RandomAffine(25, translate=(0.2,0.2), scale=(1,2), shear=10, resample=False, fillcolor=0),\n",
        "                transforms.ToTensor(),transforms.Normalize((0.1307,), (0.3081,))\n",
        "    ])), batch_size=64, shuffle=True, num_workers=4)"
      ],
      "execution_count": 0,
      "outputs": []
    },
    {
      "cell_type": "code",
      "metadata": {
        "ExecuteTime": {
          "end_time": "2020-06-09T20:28:42.448270Z",
          "start_time": "2020-06-09T20:24:25.008Z"
        },
        "id": "IO_ObRZdxk6Z",
        "colab_type": "code",
        "colab": {
          "base_uri": "https://localhost:8080/",
          "height": 1000
        },
        "outputId": "9e10a7ba-4e4c-46d4-bc65-774f3612475e"
      },
      "source": [
        "for epoch in range(1, 20 + 1):\n",
        "    train(epoch)\n",
        "    test()"
      ],
      "execution_count": 10,
      "outputs": [
        {
          "output_type": "stream",
          "text": [
            "/usr/local/lib/python3.6/dist-packages/torch/nn/functional.py:3289: UserWarning: Default grid_sample and affine_grid behavior has changed to align_corners=False since 1.3.0. Please specify align_corners=True if the old behavior is desired. See the documentation of grid_sample for details.\n",
            "  warnings.warn(\"Default grid_sample and affine_grid behavior has changed \"\n",
            "/usr/local/lib/python3.6/dist-packages/torch/nn/functional.py:3226: UserWarning: Default grid_sample and affine_grid behavior has changed to align_corners=False since 1.3.0. Please specify align_corners=True if the old behavior is desired. See the documentation of grid_sample for details.\n",
            "  warnings.warn(\"Default grid_sample and affine_grid behavior has changed \"\n"
          ],
          "name": "stderr"
        },
        {
          "output_type": "stream",
          "text": [
            "Train Epoch: 1 [0/60000 (0%)]\tLoss: 3.924816\n",
            "Train Epoch: 1 [32000/60000 (53%)]\tLoss: 0.962581\n"
          ],
          "name": "stdout"
        },
        {
          "output_type": "stream",
          "text": [
            "/usr/local/lib/python3.6/dist-packages/torch/nn/_reduction.py:43: UserWarning: size_average and reduce args will be deprecated, please use reduction='sum' instead.\n",
            "  warnings.warn(warning.format(ret))\n"
          ],
          "name": "stderr"
        },
        {
          "output_type": "stream",
          "text": [
            "\n",
            "Test set: Average loss: 0.4857, Accuracy: 8520/10000 (85%)\n",
            "\n",
            "Train Epoch: 2 [0/60000 (0%)]\tLoss: 0.843994\n",
            "Train Epoch: 2 [32000/60000 (53%)]\tLoss: 0.666359\n",
            "\n",
            "Test set: Average loss: 0.3693, Accuracy: 8882/10000 (89%)\n",
            "\n",
            "Train Epoch: 3 [0/60000 (0%)]\tLoss: 0.862618\n",
            "Train Epoch: 3 [32000/60000 (53%)]\tLoss: 0.679532\n",
            "\n",
            "Test set: Average loss: 0.3448, Accuracy: 8944/10000 (89%)\n",
            "\n",
            "Train Epoch: 4 [0/60000 (0%)]\tLoss: 0.629446\n",
            "Train Epoch: 4 [32000/60000 (53%)]\tLoss: 0.759761\n",
            "\n",
            "Test set: Average loss: 0.3493, Accuracy: 8963/10000 (90%)\n",
            "\n",
            "Train Epoch: 5 [0/60000 (0%)]\tLoss: 0.666683\n",
            "Train Epoch: 5 [32000/60000 (53%)]\tLoss: 0.451802\n",
            "\n",
            "Test set: Average loss: 0.3086, Accuracy: 9056/10000 (91%)\n",
            "\n",
            "Train Epoch: 6 [0/60000 (0%)]\tLoss: 0.679062\n",
            "Train Epoch: 6 [32000/60000 (53%)]\tLoss: 0.808386\n",
            "\n",
            "Test set: Average loss: 0.3016, Accuracy: 9063/10000 (91%)\n",
            "\n",
            "Train Epoch: 7 [0/60000 (0%)]\tLoss: 0.508742\n",
            "Train Epoch: 7 [32000/60000 (53%)]\tLoss: 0.449182\n",
            "\n",
            "Test set: Average loss: 0.2986, Accuracy: 9070/10000 (91%)\n",
            "\n",
            "Train Epoch: 8 [0/60000 (0%)]\tLoss: 0.607874\n",
            "Train Epoch: 8 [32000/60000 (53%)]\tLoss: 0.321421\n",
            "\n",
            "Test set: Average loss: 0.3058, Accuracy: 9032/10000 (90%)\n",
            "\n",
            "Train Epoch: 9 [0/60000 (0%)]\tLoss: 0.547726\n",
            "Train Epoch: 9 [32000/60000 (53%)]\tLoss: 0.429107\n",
            "\n",
            "Test set: Average loss: 0.2765, Accuracy: 9154/10000 (92%)\n",
            "\n",
            "Train Epoch: 10 [0/60000 (0%)]\tLoss: 0.604085\n",
            "Train Epoch: 10 [32000/60000 (53%)]\tLoss: 0.345247\n",
            "\n",
            "Test set: Average loss: 0.2684, Accuracy: 9149/10000 (91%)\n",
            "\n",
            "Train Epoch: 11 [0/60000 (0%)]\tLoss: 0.398495\n",
            "Train Epoch: 11 [32000/60000 (53%)]\tLoss: 0.543572\n",
            "\n",
            "Test set: Average loss: 0.2638, Accuracy: 9198/10000 (92%)\n",
            "\n",
            "Train Epoch: 12 [0/60000 (0%)]\tLoss: 0.388292\n",
            "Train Epoch: 12 [32000/60000 (53%)]\tLoss: 0.501236\n",
            "\n",
            "Test set: Average loss: 0.2387, Accuracy: 9278/10000 (93%)\n",
            "\n",
            "Train Epoch: 13 [0/60000 (0%)]\tLoss: 0.443810\n",
            "Train Epoch: 13 [32000/60000 (53%)]\tLoss: 0.246770\n",
            "\n",
            "Test set: Average loss: 0.2255, Accuracy: 9283/10000 (93%)\n",
            "\n",
            "Train Epoch: 14 [0/60000 (0%)]\tLoss: 0.447634\n",
            "Train Epoch: 14 [32000/60000 (53%)]\tLoss: 0.332107\n",
            "\n",
            "Test set: Average loss: 0.2328, Accuracy: 9270/10000 (93%)\n",
            "\n",
            "Train Epoch: 15 [0/60000 (0%)]\tLoss: 0.405648\n",
            "Train Epoch: 15 [32000/60000 (53%)]\tLoss: 0.379233\n",
            "\n",
            "Test set: Average loss: 0.2954, Accuracy: 9085/10000 (91%)\n",
            "\n",
            "Train Epoch: 16 [0/60000 (0%)]\tLoss: 0.405721\n",
            "Train Epoch: 16 [32000/60000 (53%)]\tLoss: 0.412303\n",
            "\n",
            "Test set: Average loss: 0.2570, Accuracy: 9220/10000 (92%)\n",
            "\n",
            "Train Epoch: 17 [0/60000 (0%)]\tLoss: 0.337570\n",
            "Train Epoch: 17 [32000/60000 (53%)]\tLoss: 0.491414\n",
            "\n",
            "Test set: Average loss: 0.2355, Accuracy: 9245/10000 (92%)\n",
            "\n",
            "Train Epoch: 18 [0/60000 (0%)]\tLoss: 0.314101\n",
            "Train Epoch: 18 [32000/60000 (53%)]\tLoss: 0.356277\n",
            "\n",
            "Test set: Average loss: 0.2258, Accuracy: 9319/10000 (93%)\n",
            "\n",
            "Train Epoch: 19 [0/60000 (0%)]\tLoss: 0.496003\n",
            "Train Epoch: 19 [32000/60000 (53%)]\tLoss: 0.307781\n",
            "\n",
            "Test set: Average loss: 0.2332, Accuracy: 9284/10000 (93%)\n",
            "\n",
            "Train Epoch: 20 [0/60000 (0%)]\tLoss: 0.431497\n",
            "Train Epoch: 20 [32000/60000 (53%)]\tLoss: 0.388383\n",
            "\n",
            "Test set: Average loss: 0.2193, Accuracy: 9331/10000 (93%)\n",
            "\n"
          ],
          "name": "stdout"
        }
      ]
    },
    {
      "cell_type": "code",
      "metadata": {
        "ExecuteTime": {
          "end_time": "2020-06-09T20:28:42.450222Z",
          "start_time": "2020-06-09T20:24:25.012Z"
        },
        "id": "0mXOW9hJxk6b",
        "colab_type": "code",
        "colab": {
          "base_uri": "https://localhost:8080/",
          "height": 303
        },
        "outputId": "76f9f941-aadb-46dc-f344-5c4506a0465c"
      },
      "source": [
        "# Visualize the STN transformation on some input batch\n",
        "visualize_stn()\n",
        "\n",
        "plt.ioff()\n",
        "plt.show()"
      ],
      "execution_count": 11,
      "outputs": [
        {
          "output_type": "stream",
          "text": [
            "/usr/local/lib/python3.6/dist-packages/torch/nn/functional.py:3289: UserWarning: Default grid_sample and affine_grid behavior has changed to align_corners=False since 1.3.0. Please specify align_corners=True if the old behavior is desired. See the documentation of grid_sample for details.\n",
            "  warnings.warn(\"Default grid_sample and affine_grid behavior has changed \"\n",
            "/usr/local/lib/python3.6/dist-packages/torch/nn/functional.py:3226: UserWarning: Default grid_sample and affine_grid behavior has changed to align_corners=False since 1.3.0. Please specify align_corners=True if the old behavior is desired. See the documentation of grid_sample for details.\n",
            "  warnings.warn(\"Default grid_sample and affine_grid behavior has changed \"\n"
          ],
          "name": "stderr"
        },
        {
          "output_type": "display_data",
          "data": {
            "image/png": "[encoded data removed]",
            "text/plain": [
              "<Figure size 432x288 with 2 Axes>"
            ]
          },
          "metadata": {
            "tags": [],
            "needs_background": "light"
          }
        }
      ]
    },
    {
      "cell_type": "markdown",
      "metadata": {
        "id": "e-DUjvkMxk6e",
        "colab_type": "text"
      },
      "source": [
        "# Pas de Transformation"
      ]
    },
    {
      "cell_type": "code",
      "metadata": {
        "ExecuteTime": {
          "end_time": "2020-06-09T20:28:42.451198Z",
          "start_time": "2020-06-09T20:24:25.015Z"
        },
        "id": "Ob4d3gYhxk6f",
        "colab_type": "code",
        "colab": {}
      },
      "source": [
        "class Net(nn.Module):\n",
        "    def __init__(self):\n",
        "        super(Net, self).__init__()\n",
        "        self.conv1 = nn.Conv2d(1, 10, kernel_size=5)\n",
        "        self.conv2 = nn.Conv2d(10, 20, kernel_size=5)\n",
        "        self.conv2_drop = nn.Dropout2d()\n",
        "        self.fc1 = nn.Linear(320, 50)\n",
        "        self.fc2 = nn.Linear(50, 10)\n",
        "\n",
        "        # Regressor for the 3 * 2 affine matrix\n",
        "        self.fc_loc = nn.Sequential(\n",
        "            nn.Linear(10 * 3 * 3, 32),\n",
        "            nn.ReLU(True),\n",
        "            nn.Linear(32, 3 * 2)\n",
        "        )\n",
        "\n",
        "        # Initialize the weights/bias with identity transformation\n",
        "        self.fc_loc[2].weight.data.zero_()\n",
        "        self.fc_loc[2].bias.data.copy_(torch.tensor([1, 0, 0, 0, 1, 0], dtype=torch.float))\n",
        "\n",
        "    def forward(self, x):\n",
        "        # Perform the usual forward pass\n",
        "        x = F.relu(F.max_pool2d(self.conv1(x), 2))\n",
        "        x = F.relu(F.max_pool2d(self.conv2_drop(self.conv2(x)), 2))\n",
        "        x = x.view(-1, 320)\n",
        "        x = F.relu(self.fc1(x))\n",
        "        x = F.dropout(x, training=self.training)\n",
        "        x = self.fc2(x)\n",
        "        return F.log_softmax(x, dim=1)\n",
        "\n",
        "\n",
        "model = Net().to(device)"
      ],
      "execution_count": 0,
      "outputs": []
    },
    {
      "cell_type": "code",
      "metadata": {
        "ExecuteTime": {
          "end_time": "2020-06-09T20:28:42.452183Z",
          "start_time": "2020-06-09T20:24:25.018Z"
        },
        "id": "zPhPbM-exk6j",
        "colab_type": "code",
        "colab": {
          "base_uri": "https://localhost:8080/",
          "height": 1000
        },
        "outputId": "6a589405-3ac6-43c4-fc65-27c77afcaea5"
      },
      "source": [
        "for epoch in range(1, 20 + 1):\n",
        "    train(epoch)\n",
        "    test()"
      ],
      "execution_count": 22,
      "outputs": [
        {
          "output_type": "stream",
          "text": [
            "Train Epoch: 1 [0/60000 (0%)]\tLoss: 2.334694\n",
            "Train Epoch: 1 [32000/60000 (53%)]\tLoss: 2.287692\n"
          ],
          "name": "stdout"
        },
        {
          "output_type": "stream",
          "text": [
            "/usr/local/lib/python3.6/dist-packages/torch/nn/_reduction.py:43: UserWarning: size_average and reduce args will be deprecated, please use reduction='sum' instead.\n",
            "  warnings.warn(warning.format(ret))\n"
          ],
          "name": "stderr"
        },
        {
          "output_type": "stream",
          "text": [
            "\n",
            "Test set: Average loss: 2.3037, Accuracy: 1118/10000 (11%)\n",
            "\n",
            "Train Epoch: 2 [0/60000 (0%)]\tLoss: 2.307767\n",
            "Train Epoch: 2 [32000/60000 (53%)]\tLoss: 2.320148\n",
            "\n",
            "Test set: Average loss: 2.3040, Accuracy: 1107/10000 (11%)\n",
            "\n",
            "Train Epoch: 3 [0/60000 (0%)]\tLoss: 2.304817\n",
            "Train Epoch: 3 [32000/60000 (53%)]\tLoss: 2.303848\n",
            "\n",
            "Test set: Average loss: 2.3038, Accuracy: 1099/10000 (11%)\n",
            "\n",
            "Train Epoch: 4 [0/60000 (0%)]\tLoss: 2.328858\n",
            "Train Epoch: 4 [32000/60000 (53%)]\tLoss: 2.293503\n",
            "\n",
            "Test set: Average loss: 2.3037, Accuracy: 1103/10000 (11%)\n",
            "\n",
            "Train Epoch: 5 [0/60000 (0%)]\tLoss: 2.318299\n",
            "Train Epoch: 5 [32000/60000 (53%)]\tLoss: 2.299412\n",
            "\n",
            "Test set: Average loss: 2.3039, Accuracy: 1042/10000 (10%)\n",
            "\n",
            "Train Epoch: 6 [0/60000 (0%)]\tLoss: 2.313163\n",
            "Train Epoch: 6 [32000/60000 (53%)]\tLoss: 2.319977\n",
            "\n",
            "Test set: Average loss: 2.3030, Accuracy: 1124/10000 (11%)\n",
            "\n",
            "Train Epoch: 7 [0/60000 (0%)]\tLoss: 2.293384\n",
            "Train Epoch: 7 [32000/60000 (53%)]\tLoss: 2.322716\n",
            "\n",
            "Test set: Average loss: 2.3045, Accuracy: 1094/10000 (11%)\n",
            "\n",
            "Train Epoch: 8 [0/60000 (0%)]\tLoss: 2.326351\n",
            "Train Epoch: 8 [32000/60000 (53%)]\tLoss: 2.330190\n",
            "\n",
            "Test set: Average loss: 2.3038, Accuracy: 1068/10000 (11%)\n",
            "\n",
            "Train Epoch: 9 [0/60000 (0%)]\tLoss: 2.314469\n",
            "Train Epoch: 9 [32000/60000 (53%)]\tLoss: 2.312021\n",
            "\n",
            "Test set: Average loss: 2.3038, Accuracy: 1130/10000 (11%)\n",
            "\n",
            "Train Epoch: 10 [0/60000 (0%)]\tLoss: 2.322497\n",
            "Train Epoch: 10 [32000/60000 (53%)]\tLoss: 2.308230\n",
            "\n",
            "Test set: Average loss: 2.3040, Accuracy: 1134/10000 (11%)\n",
            "\n",
            "Train Epoch: 11 [0/60000 (0%)]\tLoss: 2.315189\n",
            "Train Epoch: 11 [32000/60000 (53%)]\tLoss: 2.317673\n",
            "\n",
            "Test set: Average loss: 2.3044, Accuracy: 1126/10000 (11%)\n",
            "\n",
            "Train Epoch: 12 [0/60000 (0%)]\tLoss: 2.290999\n",
            "Train Epoch: 12 [32000/60000 (53%)]\tLoss: 2.300436\n",
            "\n",
            "Test set: Average loss: 2.3040, Accuracy: 1094/10000 (11%)\n",
            "\n",
            "Train Epoch: 13 [0/60000 (0%)]\tLoss: 2.290735\n",
            "Train Epoch: 13 [32000/60000 (53%)]\tLoss: 2.287502\n",
            "\n",
            "Test set: Average loss: 2.3038, Accuracy: 1114/10000 (11%)\n",
            "\n",
            "Train Epoch: 14 [0/60000 (0%)]\tLoss: 2.294115\n",
            "Train Epoch: 14 [32000/60000 (53%)]\tLoss: 2.289991\n",
            "\n",
            "Test set: Average loss: 2.3040, Accuracy: 1056/10000 (11%)\n",
            "\n",
            "Train Epoch: 15 [0/60000 (0%)]\tLoss: 2.333977\n",
            "Train Epoch: 15 [32000/60000 (53%)]\tLoss: 2.315755\n",
            "\n",
            "Test set: Average loss: 2.3036, Accuracy: 1101/10000 (11%)\n",
            "\n",
            "Train Epoch: 16 [0/60000 (0%)]\tLoss: 2.284411\n",
            "Train Epoch: 16 [32000/60000 (53%)]\tLoss: 2.301351\n",
            "\n",
            "Test set: Average loss: 2.3045, Accuracy: 1069/10000 (11%)\n",
            "\n",
            "Train Epoch: 17 [0/60000 (0%)]\tLoss: 2.337967\n",
            "Train Epoch: 17 [32000/60000 (53%)]\tLoss: 2.320519\n",
            "\n",
            "Test set: Average loss: 2.3041, Accuracy: 1099/10000 (11%)\n",
            "\n",
            "Train Epoch: 18 [0/60000 (0%)]\tLoss: 2.309163\n",
            "Train Epoch: 18 [32000/60000 (53%)]\tLoss: 2.325211\n",
            "\n",
            "Test set: Average loss: 2.3029, Accuracy: 1138/10000 (11%)\n",
            "\n",
            "Train Epoch: 19 [0/60000 (0%)]\tLoss: 2.318913\n",
            "Train Epoch: 19 [32000/60000 (53%)]\tLoss: 2.304582\n",
            "\n",
            "Test set: Average loss: 2.3040, Accuracy: 1081/10000 (11%)\n",
            "\n",
            "Train Epoch: 20 [0/60000 (0%)]\tLoss: 2.305993\n",
            "Train Epoch: 20 [32000/60000 (53%)]\tLoss: 2.280393\n",
            "\n",
            "Test set: Average loss: 2.3037, Accuracy: 1111/10000 (11%)\n",
            "\n"
          ],
          "name": "stdout"
        }
      ]
    },
    {
      "cell_type": "markdown",
      "metadata": {
        "id": "S5nAcjzW6DAU",
        "colab_type": "text"
      },
      "source": [
        "**On remarque que la Loss ne diminue pas pour le CNN sans transformation**\n"
      ]
    }
  ]
}